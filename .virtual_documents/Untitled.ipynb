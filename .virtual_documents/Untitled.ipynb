import numpy as np
import pandas as pd
import matplotlib.pyplot as plt
import seaborn as sns


# Import the data
import chardet

with open('SeoulBikeData.csv', 'rb') as f:
    data = f.read(100)

result = chardet.detect(data)
encoding = result['encoding']

print(encoding)

df = pd.read_csv("SeoulBikeData.csv" , encoding=encoding)


df


df.head()


type(df['Date'])


df.isnull().sum()



